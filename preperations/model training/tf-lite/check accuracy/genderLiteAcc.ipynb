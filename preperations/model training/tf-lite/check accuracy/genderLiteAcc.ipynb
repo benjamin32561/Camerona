{
  "nbformat": 4,
  "nbformat_minor": 0,
  "metadata": {
    "colab": {
      "name": " genderLiteAcc.ipynb",
      "provenance": [],
      "collapsed_sections": [],
      "toc_visible": true
    },
    "kernelspec": {
      "name": "python3",
      "display_name": "Python 3"
    }
  },
  "cells": [
    {
      "cell_type": "code",
      "metadata": {
        "colab": {
          "base_uri": "https://localhost:8080/"
        },
        "id": "gLFY6C5VIcfz",
        "outputId": "c29f9430-5923-4eee-ca83-a35944e08234"
      },
      "source": [
        "import tensorflow.keras as keras\n",
        "import tensorflow as tf\n",
        "from google.colab import drive\n",
        "import numpy as np\n",
        "import cv2\n",
        "\n",
        "#constent stuff\n",
        "MODEL = \"/content/models/gender.tflite\"\n",
        "DATASET_PATH_COLAB = \"/content/gender/\"\n",
        "TEST_TEXT = DATASET_PATH_COLAB+\"test.txt\"\n",
        "\n",
        "#mounting to drive\n",
        "drive.mount('/content/gdrive/')"
      ],
      "execution_count": 1,
      "outputs": [
        {
          "output_type": "stream",
          "text": [
            "Mounted at /content/gdrive/\n"
          ],
          "name": "stdout"
        }
      ]
    },
    {
      "cell_type": "code",
      "metadata": {
        "id": "UhDAWPYcL_VX"
      },
      "source": [
        "!ln -s \"/content/gdrive/My Drive/magshimim/camerona/dataset/gender/\" \"/content/\"\n",
        "!ln -s \"/content/gdrive/My Drive/magshimim/camerona/models/\" \"/content/\""
      ],
      "execution_count": 2,
      "outputs": []
    },
    {
      "cell_type": "code",
      "metadata": {
        "id": "VEXVHdDpMFLV"
      },
      "source": [
        "def getData(file_path):\n",
        "  \"\"\"\n",
        "  This function loads the data from a file\n",
        "  input: the text file path\n",
        "  output: x abd y of the data\n",
        "  \"\"\"\n",
        "  #openning the file\n",
        "  f = open(file_path, 'r')\n",
        "  data = f.read().split('\\n')\n",
        "  f.close()\n",
        "  x = []\n",
        "  y = []\n",
        "  all = len(data)\n",
        "  cnt = 1\n",
        "  for line in data:\n",
        "    #iterating through the file\n",
        "    if cnt%250 == 0:\n",
        "      print(\"{0}/{1}\".format(cnt, all))\n",
        "    cnt += 1\n",
        "    line_data = line.split(\" \")\n",
        "    line_data[0] = line_data[0].replace('\\\\', '/')\n",
        "    try:\n",
        "      #loading the image\n",
        "      img = cv2.imread(DATASET_PATH_COLAB+line_data[0])\n",
        "      img = cv2.resize(img, (64,64))/255\n",
        "    except:\n",
        "      continue\n",
        "    #adding data\n",
        "    x.append(img)\n",
        "    y.append(int(line_data[1]))\n",
        "  #converting to numoy array\n",
        "  x = np.array(x)\n",
        "  y = np.array(y)\n",
        "  return x,y"
      ],
      "execution_count": 3,
      "outputs": []
    },
    {
      "cell_type": "code",
      "metadata": {
        "id": "YbK4nXO1MHtI"
      },
      "source": [
        "class ModelData():\n",
        "  \"\"\"\n",
        "  class that uses the tflite models, its easier to do everything like this\n",
        "  \"\"\"\n",
        "  def __init__(self, model_path):\n",
        "    \"\"\"\n",
        "    This method is the C'tor\n",
        "    input: model path\n",
        "    \"\"\"\n",
        "    self.model = tf.lite.Interpreter(model_path=model_path)\n",
        "    self.input_tensor_index = self.model.get_input_details()[0]['index']\n",
        "    self.output_tensor_index = self.model.get_output_details()[0]['index']\n",
        "    self.model.allocate_tensors()\n",
        "\n",
        "  def modelPredict(self, face):\n",
        "    \"\"\"\n",
        "    This method is responsble to predict\n",
        "    input: data to predict its output\n",
        "    \"\"\"\n",
        "    self.model.set_tensor(self.input_tensor_index, face)\n",
        "    self.model.invoke()\n",
        "    prediction = self.model.get_tensor(self.output_tensor_index)\n",
        "    return prediction"
      ],
      "execution_count": 7,
      "outputs": []
    },
    {
      "cell_type": "code",
      "metadata": {
        "id": "_yXEXLW1MJqZ"
      },
      "source": [
        "model = ModelData(MODEL)"
      ],
      "execution_count": 8,
      "outputs": []
    },
    {
      "cell_type": "code",
      "metadata": {
        "colab": {
          "base_uri": "https://localhost:8080/"
        },
        "id": "8Yn85CE0MLKH",
        "outputId": "47944dfe-6848-4cc2-d384-19572450ada8"
      },
      "source": [
        "test_x, test_y = getData(TEST_TEXT)\n",
        "predictions = []"
      ],
      "execution_count": 9,
      "outputs": [
        {
          "output_type": "stream",
          "text": [
            "250/2648\n",
            "500/2648\n",
            "750/2648\n",
            "1000/2648\n",
            "1250/2648\n",
            "1500/2648\n",
            "1750/2648\n",
            "2000/2648\n",
            "2250/2648\n",
            "2500/2648\n"
          ],
          "name": "stdout"
        }
      ]
    },
    {
      "cell_type": "code",
      "metadata": {
        "id": "DHGlYCmtMN3I"
      },
      "source": [
        "#getting predictions\n",
        "for img in test_x:\n",
        "  img = np.array([img], dtype=np.float32)\n",
        "  predictions.append(model.modelPredict(img))"
      ],
      "execution_count": 10,
      "outputs": []
    },
    {
      "cell_type": "code",
      "metadata": {
        "id": "7wYoLzMNMPaW"
      },
      "source": [
        "#proccesing the data\n",
        "p = []\n",
        "y = []\n",
        "size = test_y.shape[0]\n",
        "i = 0\n",
        "while i < size:\n",
        "  y.append([test_y[i]])\n",
        "  p.append(predictions[i][0])\n",
        "  i+=1\n",
        "predictions = p"
      ],
      "execution_count": 11,
      "outputs": []
    },
    {
      "cell_type": "code",
      "metadata": {
        "colab": {
          "base_uri": "https://localhost:8080/"
        },
        "id": "UtjLpBh0MQ3K",
        "outputId": "0e615a81-8acd-4d35-c9f0-927b603cbe16"
      },
      "source": [
        "#checking accuracy\n",
        "m = tf.keras.metrics.BinaryAccuracy()\n",
        "m.update_state(test_y, predictions)\n",
        "print(m.result().numpy())"
      ],
      "execution_count": 12,
      "outputs": [
        {
          "output_type": "stream",
          "text": [
            "0.99358004\n"
          ],
          "name": "stdout"
        }
      ]
    }
  ]
}