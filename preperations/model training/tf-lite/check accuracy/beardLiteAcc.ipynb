{
  "nbformat": 4,
  "nbformat_minor": 0,
  "metadata": {
    "colab": {
      "name": "beardLiteAcc.ipynb",
      "provenance": [],
      "collapsed_sections": []
    },
    "kernelspec": {
      "name": "python3",
      "display_name": "Python 3"
    }
  },
  "cells": [
    {
      "cell_type": "code",
      "metadata": {
        "colab": {
          "base_uri": "https://localhost:8080/"
        },
        "id": "LVTSt4h7dtaF",
        "outputId": "92986477-4b60-4a05-d25d-398020c0b47c"
      },
      "source": [
        "import tensorflow.keras as keras\n",
        "import tensorflow as tf\n",
        "from google.colab import drive\n",
        "import numpy as np\n",
        "import cv2\n",
        "\n",
        "#constent stuff\n",
        "MODEL = \"/content/models/beard.tflite\"\n",
        "DATASET_PATH_COLAB = \"/content/beard/\"\n",
        "TEST_TEXT = DATASET_PATH_COLAB+\"test.txt\"\n",
        "\n",
        "#mounting to drive\n",
        "drive.mount('/content/gdrive/')"
      ],
      "execution_count": 1,
      "outputs": [
        {
          "output_type": "stream",
          "text": [
            "Mounted at /content/gdrive/\n"
          ],
          "name": "stdout"
        }
      ]
    },
    {
      "cell_type": "code",
      "metadata": {
        "id": "_lM238RFe2ar"
      },
      "source": [
        "!ln -s \"/content/gdrive/My Drive/magshimim/camerona/dataset/beard/\" \"/content/\"\n",
        "!ln -s \"/content/gdrive/My Drive/magshimim/camerona/models/\" \"/content/\""
      ],
      "execution_count": 2,
      "outputs": []
    },
    {
      "cell_type": "code",
      "metadata": {
        "id": "lDemLXf3fX9w"
      },
      "source": [
        "def getData(file_path):\n",
        "  \"\"\"\n",
        "  This function loads the data from a file\n",
        "  input: the text file path\n",
        "  output: x abd y of the data\n",
        "  \"\"\"\n",
        "  #openning the file\n",
        "  f = open(file_path, 'r')\n",
        "  data = f.read().split('\\n')\n",
        "  f.close()\n",
        "  x = []\n",
        "  y = []\n",
        "  all = len(data)\n",
        "  cnt = 1\n",
        "  for line in data:\n",
        "    #iterating through the file\n",
        "    if cnt%250 == 0:\n",
        "      print(\"{0}/{1}\".format(cnt, all))\n",
        "    cnt += 1\n",
        "    line_data = line.split(\" \")\n",
        "    line_data[0] = line_data[0].replace('\\\\', '/')\n",
        "    try:\n",
        "      #loading the image\n",
        "      img = cv2.imread(DATASET_PATH_COLAB+line_data[0])\n",
        "      img = cv2.resize(img, (64,64))/255\n",
        "    except:\n",
        "      continue\n",
        "    #adding data\n",
        "    x.append(img)\n",
        "    y.append(int(line_data[1]))\n",
        "  #converting to numoy array\n",
        "  x = np.array(x)\n",
        "  y = np.array(y)\n",
        "  return x,y"
      ],
      "execution_count": 3,
      "outputs": []
    },
    {
      "cell_type": "code",
      "metadata": {
        "id": "WYpdRcMGfZ8G"
      },
      "source": [
        "class ModelData():\n",
        "  \"\"\"\n",
        "  class that uses the tflite models, its easier to do everything like this\n",
        "  \"\"\"\n",
        "  def __init__(self, model_path):\n",
        "    \"\"\"\n",
        "    This method is the C'tor\n",
        "    input: model path\n",
        "    \"\"\"\n",
        "    self.model = tf.lite.Interpreter(model_path=model_path)\n",
        "    self.input_tensor_index = self.model.get_input_details()[0]['index']\n",
        "    self.output_tensor_index = self.model.get_output_details()[0]['index']\n",
        "    self.model.allocate_tensors()\n",
        "\n",
        "  def modelPredict(self, face):\n",
        "    \"\"\"\n",
        "    This method is responsble to predict\n",
        "    input: data to predict its output\n",
        "    \"\"\"\n",
        "    self.model.set_tensor(self.input_tensor_index, face)\n",
        "    self.model.invoke()\n",
        "    prediction = self.model.get_tensor(self.output_tensor_index)\n",
        "    return prediction"
      ],
      "execution_count": 5,
      "outputs": []
    },
    {
      "cell_type": "code",
      "metadata": {
        "id": "grvmuOxzfbuZ"
      },
      "source": [
        "model = ModelData(MODEL)"
      ],
      "execution_count": 6,
      "outputs": []
    },
    {
      "cell_type": "code",
      "metadata": {
        "colab": {
          "base_uri": "https://localhost:8080/"
        },
        "id": "nnTFey4JfeNp",
        "outputId": "a66dab12-c6aa-4360-e539-39efe51efd26"
      },
      "source": [
        "test_x, test_y = getData(TEST_TEXT)\n",
        "predictions = []"
      ],
      "execution_count": 7,
      "outputs": [
        {
          "output_type": "stream",
          "text": [
            "250/2303\n",
            "500/2303\n",
            "750/2303\n",
            "1000/2303\n",
            "1250/2303\n",
            "1500/2303\n",
            "1750/2303\n",
            "2000/2303\n",
            "2250/2303\n"
          ],
          "name": "stdout"
        }
      ]
    },
    {
      "cell_type": "code",
      "metadata": {
        "id": "X1bQD53tffye"
      },
      "source": [
        "#getting predictions\n",
        "for img in test_x:\n",
        "  img = np.array([img], dtype=np.float32)\n",
        "  predictions.append(model.modelPredict(img))"
      ],
      "execution_count": 8,
      "outputs": []
    },
    {
      "cell_type": "code",
      "metadata": {
        "id": "NJetsg0XfhHh"
      },
      "source": [
        " #proccesing the data\n",
        "p = []\n",
        "y = []\n",
        "size = test_y.shape[0]\n",
        "i = 0\n",
        "while i < size:\n",
        "  y.append([test_y[i]])\n",
        "  p.append(predictions[i][0])\n",
        "  i+=1\n",
        "predictions = p"
      ],
      "execution_count": 9,
      "outputs": []
    },
    {
      "cell_type": "code",
      "metadata": {
        "colab": {
          "base_uri": "https://localhost:8080/"
        },
        "id": "-opIHxE8fif-",
        "outputId": "6a05066c-bbbd-4c43-8125-f8ad48f86bbd"
      },
      "source": [
        " #checking accuracy\n",
        "m = tf.keras.metrics.BinaryAccuracy()\n",
        "m.update_state(test_y, predictions)\n",
        "print(m.result().numpy())"
      ],
      "execution_count": 10,
      "outputs": [
        {
          "output_type": "stream",
          "text": [
            "0.983934\n"
          ],
          "name": "stdout"
        }
      ]
    }
  ]
}