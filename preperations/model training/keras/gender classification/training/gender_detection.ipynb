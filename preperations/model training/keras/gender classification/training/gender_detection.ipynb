{
  "nbformat": 4,
  "nbformat_minor": 0,
  "metadata": {
    "colab": {
      "name": "gender_detection.ipynb",
      "provenance": [],
      "collapsed_sections": []
    },
    "kernelspec": {
      "name": "python3",
      "display_name": "Python 3"
    }
  },
  "cells": [
    {
      "cell_type": "code",
      "metadata": {
        "id": "qwl_7yIP476b"
      },
      "source": [
        "%%capture\r\n",
        "!pip install wandb -qqq"
      ],
      "execution_count": 4,
      "outputs": []
    },
    {
      "cell_type": "code",
      "metadata": {
        "colab": {
          "base_uri": "https://localhost:8080/"
        },
        "id": "O1Wumkt7Hapf",
        "outputId": "448f8f92-b193-45b6-8243-454afb4c4614"
      },
      "source": [
        "import tensorflow.keras as keras\r\n",
        "from google.colab import drive\r\n",
        "import numpy as np\r\n",
        "import cv2\r\n",
        "import wandb\r\n",
        "from wandb.keras import WandbCallback\r\n",
        "\r\n",
        "MODELS_PATH = \"/content/gdrive/My Drive/magshimim/camerona/models/\"\r\n",
        "BASE = \"gender_base_model.h5\"\r\n",
        "BEST = \"gender_best_model.h5\"\r\n",
        "DATASET_PATH_DRIVE = \"/content/gdrive/My Drive/magshimim/camerona/dataset/gender/\"\r\n",
        "DATASET_PATH_COLAB = \"/content/gender/\"\r\n",
        "VAL_TEXT = DATASET_PATH_COLAB+\"val.txt\"\r\n",
        "TRAIN_TEXT = DATASET_PATH_COLAB+\"train.txt\"\r\n",
        "TEST_TEXT = DATASET_PATH_COLAB+\"test.txt\"\r\n",
        "\r\n",
        "drive.mount('/content/gdrive/')"
      ],
      "execution_count": 5,
      "outputs": [
        {
          "output_type": "stream",
          "text": [
            "Go to this URL in a browser: https://accounts.google.com/o/oauth2/auth?client_id=947318989803-6bn6qk8qdgf4n4g3pfee6491hc0brc4i.apps.googleusercontent.com&redirect_uri=urn%3aietf%3awg%3aoauth%3a2.0%3aoob&scope=email%20https%3a%2f%2fwww.googleapis.com%2fauth%2fdocs.test%20https%3a%2f%2fwww.googleapis.com%2fauth%2fdrive%20https%3a%2f%2fwww.googleapis.com%2fauth%2fdrive.photos.readonly%20https%3a%2f%2fwww.googleapis.com%2fauth%2fpeopleapi.readonly%20https%3a%2f%2fwww.googleapis.com%2fauth%2fdrive.activity.readonly&response_type=code\n",
            "\n",
            "Enter your authorization code:\n",
            "4/1AY0e-g6OeZ3DZMlDwMzaBGrvPzs41HKylKdCTSG3HcSjwkPoqn148GtR5NM\n",
            "Mounted at /content/gdrive/\n"
          ],
          "name": "stdout"
        }
      ]
    },
    {
      "cell_type": "code",
      "metadata": {
        "id": "m9DATs3BHppn"
      },
      "source": [
        " !ln -s \"/content/gdrive/My Drive/magshimim/camerona/dataset/gender/\" \"/content/\""
      ],
      "execution_count": 6,
      "outputs": []
    },
    {
      "cell_type": "code",
      "metadata": {
        "colab": {
          "base_uri": "https://localhost:8080/"
        },
        "id": "L85Da8QdHs6i",
        "outputId": "a47d25c7-545e-442c-b4f3-b4ce94eac122"
      },
      "source": [
        " !wandb login"
      ],
      "execution_count": 7,
      "outputs": [
        {
          "output_type": "stream",
          "text": [
            "\u001b[34m\u001b[1mwandb\u001b[0m: You can find your API key in your browser here: https://wandb.ai/authorize\n",
            "\u001b[34m\u001b[1mwandb\u001b[0m: Paste an API key from your profile and hit enter: \n",
            "\u001b[34m\u001b[1mwandb\u001b[0m: Appending key for api.wandb.ai to your netrc file: /root/.netrc\n"
          ],
          "name": "stdout"
        }
      ]
    },
    {
      "cell_type": "code",
      "metadata": {
        "id": "GbZvFW-4HvJP"
      },
      "source": [
        "def buildModel(lr = 0.001):\r\n",
        "  input_layer = keras.layers.Input(shape=[64,64,3])\r\n",
        "\r\n",
        "  #block1\r\n",
        "  layer = keras.layers.Conv2D(32, (3,3), strides=(1,1), activation='relu', padding='same', name='block1_conv1')(input_layer)\r\n",
        "  layer = keras.layers.MaxPool2D(2, name='block1_max1')(layer)\r\n",
        "\r\n",
        "  #block2\r\n",
        "  layer = keras.layers.Conv2D(16, (3,3), strides=(1,1), activation='relu', padding='same', name='block2_conv1')(layer)\r\n",
        "  layer = keras.layers.MaxPool2D(2, name='block2_max1')(layer)\r\n",
        "\r\n",
        "  #output block\r\n",
        "  layer = keras.layers.Flatten()(layer)\r\n",
        "  layer = keras.layers.Dense(16, activation=\"relu\")(layer)\r\n",
        "  layer = keras.layers.Dense(1, activation=\"sigmoid\", name='output_layer')(layer)\r\n",
        " \r\n",
        "  model = keras.Model(inputs=input_layer, outputs=layer)\r\n",
        "  opt = keras.optimizers.Adam(learning_rate=lr)\r\n",
        "  model.compile(optimizer = opt, loss = ['binary_crossentropy'], metrics=[keras.metrics.BinaryAccuracy()])\r\n",
        "  print(model.summary())\r\n",
        "\r\n",
        "  return model"
      ],
      "execution_count": 8,
      "outputs": []
    },
    {
      "cell_type": "code",
      "metadata": {
        "id": "EfPT2F8vHx_4"
      },
      "source": [
        "def getData(file_path):\r\n",
        "  f = open(file_path, 'r')\r\n",
        "  data = f.read().split('\\n')\r\n",
        "  f.close()\r\n",
        "  x = []\r\n",
        "  y = []\r\n",
        "  all = len(data)\r\n",
        "  cnt = 1\r\n",
        "  for line in data:\r\n",
        "    if cnt%250 == 0:\r\n",
        "      print(\"{0}/{1}\".format(cnt, all))\r\n",
        "    cnt += 1\r\n",
        "    line_data = line.split(\" \")\r\n",
        "    line_data[0] = line_data[0].replace('\\\\', '/')\r\n",
        "    try:\r\n",
        "      img = cv2.imread(DATASET_PATH_COLAB+line_data[0])\r\n",
        "      img = cv2.resize(img, (64,64))/255\r\n",
        "    except:\r\n",
        "      continue\r\n",
        "    x.append(img)\r\n",
        "    y.append(int(line_data[1]))\r\n",
        "  x = np.array(x)\r\n",
        "  y = np.array(y)\r\n",
        "  return x,y"
      ],
      "execution_count": 9,
      "outputs": []
    },
    {
      "cell_type": "code",
      "metadata": {
        "colab": {
          "base_uri": "https://localhost:8080/"
        },
        "id": "Z5SukkFMHz74",
        "outputId": "b3208886-f1fd-4ec2-b5fa-b1eb96631dd6"
      },
      "source": [
        "#building and saving base model\r\n",
        "model = buildModel()\r\n",
        "model.save(MODELS_PATH+BASE)"
      ],
      "execution_count": 10,
      "outputs": [
        {
          "output_type": "stream",
          "text": [
            "Model: \"model\"\n",
            "_________________________________________________________________\n",
            "Layer (type)                 Output Shape              Param #   \n",
            "=================================================================\n",
            "input_1 (InputLayer)         [(None, 64, 64, 3)]       0         \n",
            "_________________________________________________________________\n",
            "block1_conv1 (Conv2D)        (None, 64, 64, 32)        896       \n",
            "_________________________________________________________________\n",
            "block1_max1 (MaxPooling2D)   (None, 32, 32, 32)        0         \n",
            "_________________________________________________________________\n",
            "block2_conv1 (Conv2D)        (None, 32, 32, 16)        4624      \n",
            "_________________________________________________________________\n",
            "block2_max1 (MaxPooling2D)   (None, 16, 16, 16)        0         \n",
            "_________________________________________________________________\n",
            "flatten (Flatten)            (None, 4096)              0         \n",
            "_________________________________________________________________\n",
            "dense (Dense)                (None, 16)                65552     \n",
            "_________________________________________________________________\n",
            "output_layer (Dense)         (None, 1)                 17        \n",
            "=================================================================\n",
            "Total params: 71,089\n",
            "Trainable params: 71,089\n",
            "Non-trainable params: 0\n",
            "_________________________________________________________________\n",
            "None\n"
          ],
          "name": "stdout"
        }
      ]
    },
    {
      "cell_type": "code",
      "metadata": {
        "colab": {
          "base_uri": "https://localhost:8080/",
          "height": 599
        },
        "id": "j59ZkM8iH1h_",
        "outputId": "9e78817e-e749-4420-e7bf-12d7bea794fc"
      },
      "source": [
        "wandb.init(project=\"gender-classification\")"
      ],
      "execution_count": 11,
      "outputs": [
        {
          "output_type": "stream",
          "text": [
            "\u001b[34m\u001b[1mwandb\u001b[0m: Currently logged in as: \u001b[33mofekh\u001b[0m (use `wandb login --relogin` to force relogin)\n"
          ],
          "name": "stderr"
        },
        {
          "output_type": "display_data",
          "data": {
            "text/html": [
              "\n",
              "                Tracking run with wandb version 0.10.14<br/>\n",
              "                Syncing run <strong style=\"color:#cdcd00\">ruby-hill-2</strong> to <a href=\"https://wandb.ai\" target=\"_blank\">Weights & Biases</a> <a href=\"https://docs.wandb.com/integrations/jupyter.html\" target=\"_blank\">(Documentation)</a>.<br/>\n",
              "                Project page: <a href=\"https://wandb.ai/ofekh/gender-classification\" target=\"_blank\">https://wandb.ai/ofekh/gender-classification</a><br/>\n",
              "                Run page: <a href=\"https://wandb.ai/ofekh/gender-classification/runs/aemuoj9n\" target=\"_blank\">https://wandb.ai/ofekh/gender-classification/runs/aemuoj9n</a><br/>\n",
              "                Run data is saved locally in <code>/content/wandb/run-20210117_140610-aemuoj9n</code><br/><br/>\n",
              "            "
            ],
            "text/plain": [
              "<IPython.core.display.HTML object>"
            ]
          },
          "metadata": {
            "tags": []
          }
        },
        {
          "output_type": "execute_result",
          "data": {
            "text/plain": [
              "<wandb.sdk.wandb_run.Run at 0x7fc10ca85898>"
            ],
            "text/html": [
              "<h1>Run(aemuoj9n)</h1><p></p><iframe src=\"https://wandb.ai/ofekh/gender-classification/runs/aemuoj9n\" style=\"border:none;width:100%;height:400px\"></iframe>"
            ]
          },
          "metadata": {
            "tags": []
          },
          "execution_count": 11
        }
      ]
    },
    {
      "cell_type": "code",
      "metadata": {
        "id": "fzXqAKdDH4Kh"
      },
      "source": [
        "#callbacks\r\n",
        "best_callback = keras.callbacks.ModelCheckpoint(MODELS_PATH+BEST, save_best_only=True)\r\n",
        "wandb_callback = WandbCallback()"
      ],
      "execution_count": 12,
      "outputs": []
    },
    {
      "cell_type": "code",
      "metadata": {
        "colab": {
          "base_uri": "https://localhost:8080/"
        },
        "id": "gPg8mfWCH7BH",
        "outputId": "3d959f1e-73f8-4114-b618-d34a1702fc6a"
      },
      "source": [
        "#loading data\r\n",
        "print(\"loading validation data\")\r\n",
        "val_x, val_y = getData(VAL_TEXT)\r\n",
        "print(\"loading train data\")\r\n",
        "train_x, train_y = getData(TRAIN_TEXT)"
      ],
      "execution_count": 13,
      "outputs": [
        {
          "output_type": "stream",
          "text": [
            "loading validation data\n",
            "250/1765\n",
            "500/1765\n",
            "750/1765\n",
            "1000/1765\n",
            "1250/1765\n",
            "1500/1765\n",
            "1750/1765\n",
            "loading train data\n",
            "250/13241\n",
            "500/13241\n",
            "750/13241\n",
            "1000/13241\n",
            "1250/13241\n",
            "1500/13241\n",
            "1750/13241\n",
            "2000/13241\n",
            "2250/13241\n",
            "2500/13241\n",
            "2750/13241\n",
            "3000/13241\n",
            "3250/13241\n",
            "3500/13241\n",
            "3750/13241\n",
            "4000/13241\n",
            "4250/13241\n",
            "4500/13241\n",
            "4750/13241\n",
            "5000/13241\n",
            "5250/13241\n",
            "5500/13241\n",
            "5750/13241\n",
            "6000/13241\n",
            "6250/13241\n",
            "6500/13241\n",
            "6750/13241\n",
            "7000/13241\n",
            "7250/13241\n",
            "7500/13241\n",
            "7750/13241\n",
            "8000/13241\n",
            "8250/13241\n",
            "8500/13241\n",
            "8750/13241\n",
            "9000/13241\n",
            "9250/13241\n",
            "9500/13241\n",
            "9750/13241\n",
            "10000/13241\n",
            "10250/13241\n",
            "10500/13241\n",
            "10750/13241\n",
            "11000/13241\n",
            "11250/13241\n",
            "11500/13241\n",
            "11750/13241\n",
            "12000/13241\n",
            "12250/13241\n",
            "12500/13241\n",
            "12750/13241\n",
            "13000/13241\n"
          ],
          "name": "stdout"
        }
      ]
    },
    {
      "cell_type": "code",
      "metadata": {
        "colab": {
          "base_uri": "https://localhost:8080/"
        },
        "id": "IallhylsH8nm",
        "outputId": "882d854b-4e4c-4e65-9a14-7a35470334d7"
      },
      "source": [
        "model = buildModel(0.001)"
      ],
      "execution_count": 15,
      "outputs": [
        {
          "output_type": "stream",
          "text": [
            "Model: \"model_2\"\n",
            "_________________________________________________________________\n",
            "Layer (type)                 Output Shape              Param #   \n",
            "=================================================================\n",
            "input_3 (InputLayer)         [(None, 64, 64, 3)]       0         \n",
            "_________________________________________________________________\n",
            "block1_conv1 (Conv2D)        (None, 64, 64, 32)        896       \n",
            "_________________________________________________________________\n",
            "block1_max1 (MaxPooling2D)   (None, 32, 32, 32)        0         \n",
            "_________________________________________________________________\n",
            "block2_conv1 (Conv2D)        (None, 32, 32, 16)        4624      \n",
            "_________________________________________________________________\n",
            "block2_max1 (MaxPooling2D)   (None, 16, 16, 16)        0         \n",
            "_________________________________________________________________\n",
            "flatten_2 (Flatten)          (None, 4096)              0         \n",
            "_________________________________________________________________\n",
            "dense_2 (Dense)              (None, 16)                65552     \n",
            "_________________________________________________________________\n",
            "output_layer (Dense)         (None, 1)                 17        \n",
            "=================================================================\n",
            "Total params: 71,089\n",
            "Trainable params: 71,089\n",
            "Non-trainable params: 0\n",
            "_________________________________________________________________\n",
            "None\n"
          ],
          "name": "stdout"
        }
      ]
    },
    {
      "cell_type": "code",
      "metadata": {
        "colab": {
          "base_uri": "https://localhost:8080/"
        },
        "id": "waskpFw5H_ZA",
        "outputId": "12a94286-085e-4c13-9e8b-1de5b1fb73af"
      },
      "source": [
        "model.fit(train_x,\r\n",
        "          train_y,\r\n",
        "          epochs=24, \r\n",
        "          validation_data=(val_x, val_y),\r\n",
        "          callbacks=[best_callback, wandb_callback])"
      ],
      "execution_count": 16,
      "outputs": [
        {
          "output_type": "stream",
          "text": [
            "Epoch 1/24\n",
            "414/414 [==============================] - 55s 131ms/step - loss: 0.5161 - binary_accuracy: 0.7339 - val_loss: 0.3026 - val_binary_accuracy: 0.8924\n",
            "Epoch 2/24\n",
            "414/414 [==============================] - 52s 126ms/step - loss: 0.2375 - binary_accuracy: 0.9131 - val_loss: 0.2088 - val_binary_accuracy: 0.9235\n",
            "Epoch 3/24\n",
            "414/414 [==============================] - 53s 127ms/step - loss: 0.1648 - binary_accuracy: 0.9363 - val_loss: 0.1920 - val_binary_accuracy: 0.9297\n",
            "Epoch 4/24\n",
            "414/414 [==============================] - 52s 127ms/step - loss: 0.1335 - binary_accuracy: 0.9482 - val_loss: 0.1385 - val_binary_accuracy: 0.9456\n",
            "Epoch 5/24\n",
            "414/414 [==============================] - 53s 129ms/step - loss: 0.0990 - binary_accuracy: 0.9608 - val_loss: 0.1225 - val_binary_accuracy: 0.9535\n",
            "Epoch 6/24\n",
            "414/414 [==============================] - 52s 127ms/step - loss: 0.0821 - binary_accuracy: 0.9686 - val_loss: 0.1332 - val_binary_accuracy: 0.9501\n",
            "Epoch 7/24\n",
            "414/414 [==============================] - 52s 127ms/step - loss: 0.0579 - binary_accuracy: 0.9802 - val_loss: 0.0992 - val_binary_accuracy: 0.9637\n",
            "Epoch 8/24\n",
            "414/414 [==============================] - 52s 126ms/step - loss: 0.0508 - binary_accuracy: 0.9822 - val_loss: 0.0850 - val_binary_accuracy: 0.9745\n",
            "Epoch 9/24\n",
            "414/414 [==============================] - 52s 126ms/step - loss: 0.0433 - binary_accuracy: 0.9845 - val_loss: 0.0811 - val_binary_accuracy: 0.9734\n",
            "Epoch 10/24\n",
            "414/414 [==============================] - 52s 126ms/step - loss: 0.0270 - binary_accuracy: 0.9911 - val_loss: 0.0801 - val_binary_accuracy: 0.9745\n",
            "Epoch 11/24\n",
            "414/414 [==============================] - 52s 125ms/step - loss: 0.0300 - binary_accuracy: 0.9890 - val_loss: 0.0989 - val_binary_accuracy: 0.9666\n",
            "Epoch 12/24\n",
            "414/414 [==============================] - 53s 128ms/step - loss: 0.0192 - binary_accuracy: 0.9941 - val_loss: 0.0716 - val_binary_accuracy: 0.9830\n",
            "Epoch 13/24\n",
            "414/414 [==============================] - 53s 127ms/step - loss: 0.0260 - binary_accuracy: 0.9910 - val_loss: 0.1047 - val_binary_accuracy: 0.9649\n",
            "Epoch 14/24\n",
            "414/414 [==============================] - 52s 127ms/step - loss: 0.0181 - binary_accuracy: 0.9937 - val_loss: 0.0890 - val_binary_accuracy: 0.9734\n",
            "Epoch 15/24\n",
            "414/414 [==============================] - 52s 127ms/step - loss: 0.0136 - binary_accuracy: 0.9949 - val_loss: 0.0790 - val_binary_accuracy: 0.9773\n",
            "Epoch 16/24\n",
            "414/414 [==============================] - 52s 125ms/step - loss: 0.0117 - binary_accuracy: 0.9958 - val_loss: 0.0528 - val_binary_accuracy: 0.9875\n",
            "Epoch 17/24\n",
            "414/414 [==============================] - 53s 127ms/step - loss: 0.0116 - binary_accuracy: 0.9968 - val_loss: 0.0736 - val_binary_accuracy: 0.9819\n",
            "Epoch 18/24\n",
            "414/414 [==============================] - 53s 129ms/step - loss: 0.0104 - binary_accuracy: 0.9963 - val_loss: 0.0600 - val_binary_accuracy: 0.9875\n",
            "Epoch 19/24\n",
            "414/414 [==============================] - 53s 128ms/step - loss: 0.0169 - binary_accuracy: 0.9945 - val_loss: 0.0769 - val_binary_accuracy: 0.9768\n",
            "Epoch 20/24\n",
            "414/414 [==============================] - 53s 128ms/step - loss: 0.0112 - binary_accuracy: 0.9969 - val_loss: 0.0549 - val_binary_accuracy: 0.9864\n",
            "Epoch 21/24\n",
            "414/414 [==============================] - 53s 127ms/step - loss: 8.8690e-04 - binary_accuracy: 1.0000 - val_loss: 0.0635 - val_binary_accuracy: 0.9858\n",
            "Epoch 22/24\n",
            "414/414 [==============================] - 53s 127ms/step - loss: 0.0026 - binary_accuracy: 0.9996 - val_loss: 0.0525 - val_binary_accuracy: 0.9921\n",
            "Epoch 23/24\n",
            "414/414 [==============================] - 53s 128ms/step - loss: 6.3115e-04 - binary_accuracy: 1.0000 - val_loss: 0.0544 - val_binary_accuracy: 0.9932\n",
            "Epoch 24/24\n",
            "414/414 [==============================] - 53s 129ms/step - loss: 2.2432e-04 - binary_accuracy: 1.0000 - val_loss: 0.0547 - val_binary_accuracy: 0.9932\n"
          ],
          "name": "stdout"
        },
        {
          "output_type": "execute_result",
          "data": {
            "text/plain": [
              "<tensorflow.python.keras.callbacks.History at 0x7fc10add4518>"
            ]
          },
          "metadata": {
            "tags": []
          },
          "execution_count": 16
        }
      ]
    },
    {
      "cell_type": "code",
      "metadata": {
        "colab": {
          "base_uri": "https://localhost:8080/"
        },
        "id": "uKWEaxhAH_9X",
        "outputId": "b93f0aa4-ec2a-4270-c9c6-b2792c77eaed"
      },
      "source": [
        "test_x, test_y = getData(TEST_TEXT)"
      ],
      "execution_count": 17,
      "outputs": [
        {
          "output_type": "stream",
          "text": [
            "250/2648\n",
            "500/2648\n",
            "750/2648\n",
            "1000/2648\n",
            "1250/2648\n",
            "1500/2648\n",
            "1750/2648\n",
            "2000/2648\n",
            "2250/2648\n",
            "2500/2648\n"
          ],
          "name": "stdout"
        }
      ]
    },
    {
      "cell_type": "code",
      "metadata": {
        "colab": {
          "base_uri": "https://localhost:8080/"
        },
        "id": "ATs_6QMJIBPg",
        "outputId": "598ae7e7-3f58-4a12-885f-69402f976905"
      },
      "source": [
        "loss, acc = model.evaluate(x = test_x, y = test_y)"
      ],
      "execution_count": 18,
      "outputs": [
        {
          "output_type": "stream",
          "text": [
            "83/83 [==============================] - 3s 34ms/step - loss: 0.0217 - binary_accuracy: 0.9943\n"
          ],
          "name": "stdout"
        }
      ]
    },
    {
      "cell_type": "code",
      "metadata": {
        "id": "SfB8h8xOIDa_"
      },
      "source": [
        "model.save(MODELS_PATH+BEST)"
      ],
      "execution_count": 19,
      "outputs": []
    }
  ]
}