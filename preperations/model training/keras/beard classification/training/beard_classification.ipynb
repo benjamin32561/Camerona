{
  "nbformat": 4,
  "nbformat_minor": 0,
  "metadata": {
    "colab": {
      "name": "beard_classification.ipynb",
      "provenance": []
    },
    "kernelspec": {
      "name": "python3",
      "display_name": "Python 3"
    }
  },
  "cells": [
    {
      "cell_type": "code",
      "metadata": {
        "id": "DO6zVSxG5rKc"
      },
      "source": [
        "%%capture\r\n",
        "!pip install wandb -qqq"
      ],
      "execution_count": 3,
      "outputs": []
    },
    {
      "cell_type": "code",
      "metadata": {
        "colab": {
          "base_uri": "https://localhost:8080/"
        },
        "id": "woiXSSk0EwM0",
        "outputId": "a362084b-dee5-4571-f290-77e915fbff10"
      },
      "source": [
        "import tensorflow.keras as keras\r\n",
        "from google.colab import drive\r\n",
        "import numpy as np\r\n",
        "import cv2\r\n",
        "import wandb\r\n",
        "from wandb.keras import WandbCallback\r\n",
        "\r\n",
        "MODELS_PATH = \"/content/gdrive/My Drive/magshimim/camerona/models/\"\r\n",
        "BASE = \"beard_base_model.h5\"\r\n",
        "BEST = \"beard_best_model.h5\"\r\n",
        "DATASET_PATH_DRIVE = \"/content/gdrive/My Drive/magshimim/camerona/dataset/beard/\"\r\n",
        "DATASET_PATH_COLAB = \"/content/beard/\"\r\n",
        "VAL_TEXT = DATASET_PATH_COLAB+\"val.txt\"\r\n",
        "TRAIN_TEXT = DATASET_PATH_COLAB+\"train.txt\"\r\n",
        "TEST_TEXT = DATASET_PATH_COLAB+\"test.txt\"\r\n",
        "\r\n",
        "drive.mount('/content/gdrive/')"
      ],
      "execution_count": 2,
      "outputs": [
        {
          "output_type": "stream",
          "text": [
            "Mounted at /content/gdrive/\n"
          ],
          "name": "stdout"
        }
      ]
    },
    {
      "cell_type": "code",
      "metadata": {
        "id": "PBuUCVJmFJ0D"
      },
      "source": [
        "!ln -s \"/content/gdrive/My Drive/magshimim/camerona/dataset/beard/\" \"/content/\""
      ],
      "execution_count": 3,
      "outputs": []
    },
    {
      "cell_type": "code",
      "metadata": {
        "colab": {
          "base_uri": "https://localhost:8080/"
        },
        "id": "C37IYSpMFs4E",
        "outputId": "8a121bb6-5399-4921-a8d7-01e1c4bedc06"
      },
      "source": [
        " !wandb login"
      ],
      "execution_count": 4,
      "outputs": [
        {
          "output_type": "stream",
          "text": [
            "\u001b[34m\u001b[1mwandb\u001b[0m: You can find your API key in your browser here: https://wandb.ai/authorize\n",
            "\u001b[34m\u001b[1mwandb\u001b[0m: Paste an API key from your profile and hit enter: \n",
            "\u001b[34m\u001b[1mwandb\u001b[0m: Appending key for api.wandb.ai to your netrc file: /root/.netrc\n"
          ],
          "name": "stdout"
        }
      ]
    },
    {
      "cell_type": "code",
      "metadata": {
        "id": "J5QC0DxBFwsl"
      },
      "source": [
        "def buildModel(lr = 0.001):\r\n",
        "  input_layer = keras.layers.Input(shape=[32,32,3])\r\n",
        "\r\n",
        "  #block1\r\n",
        "  layer = keras.layers.Conv2D(32, (3,3), strides=(1,1), activation='relu', padding='same', name='block1_conv1')(input_layer)\r\n",
        "  layer = keras.layers.MaxPool2D(2, name='block1_max1')(layer)\r\n",
        "\r\n",
        "  #block2\r\n",
        "  layer = keras.layers.Conv2D(16, (3,3), strides=(1,1), activation='relu', padding='same', name='block2_conv1')(layer)\r\n",
        "  layer = keras.layers.MaxPool2D(2, name='block2_max1')(layer)\r\n",
        "\r\n",
        "  #output block\r\n",
        "  layer = keras.layers.Flatten()(layer)\r\n",
        "  layer = keras.layers.Dense(16, activation=\"relu\")(layer)\r\n",
        "  layer = keras.layers.Dense(1, activation=\"sigmoid\", name='output_layer')(layer)\r\n",
        " \r\n",
        "  model = keras.Model(inputs=input_layer, outputs=layer)\r\n",
        "  opt = keras.optimizers.Adam(learning_rate=lr)\r\n",
        "  model.compile(optimizer = opt, loss = ['binary_crossentropy'], metrics=[keras.metrics.BinaryAccuracy()])\r\n",
        "  print(model.summary())\r\n",
        "\r\n",
        "  return model"
      ],
      "execution_count": 1,
      "outputs": []
    },
    {
      "cell_type": "code",
      "metadata": {
        "id": "sxnBShn_Fz-_"
      },
      "source": [
        "def getData(file_path):\r\n",
        "  f = open(file_path, 'r')\r\n",
        "  data = f.read().split('\\n')\r\n",
        "  f.close()\r\n",
        "  x = []\r\n",
        "  y = []\r\n",
        "  all = len(data)\r\n",
        "  cnt = 1\r\n",
        "  for line in data:\r\n",
        "    if cnt%250 == 0:\r\n",
        "      print(\"{0}/{1}\".format(cnt, all))\r\n",
        "    cnt += 1\r\n",
        "    line_data = line.split(\" \")\r\n",
        "    line_data[0] = line_data[0].replace('\\\\', '/')\r\n",
        "    try:\r\n",
        "      img = cv2.imread(DATASET_PATH_COLAB+line_data[0])\r\n",
        "      img = cv2.resize(img, (64,64))/255\r\n",
        "    except:\r\n",
        "      continue\r\n",
        "    x.append(img)\r\n",
        "    y.append(int(line_data[1]))\r\n",
        "  x = np.array(x)\r\n",
        "  y = np.array(y)\r\n",
        "  return x,y"
      ],
      "execution_count": 7,
      "outputs": []
    },
    {
      "cell_type": "code",
      "metadata": {
        "colab": {
          "base_uri": "https://localhost:8080/"
        },
        "id": "dXuQhR_-F2Vl",
        "outputId": "7d35bf1f-dc92-498f-9c6d-bde38495de4f"
      },
      "source": [
        "#building and saving base model\r\n",
        "model = buildModel()\r\n",
        "model.save(MODELS_PATH+BASE)"
      ],
      "execution_count": 8,
      "outputs": [
        {
          "output_type": "stream",
          "text": [
            "Model: \"model\"\n",
            "_________________________________________________________________\n",
            "Layer (type)                 Output Shape              Param #   \n",
            "=================================================================\n",
            "input_1 (InputLayer)         [(None, 64, 64, 3)]       0         \n",
            "_________________________________________________________________\n",
            "block1_conv1 (Conv2D)        (None, 64, 64, 32)        896       \n",
            "_________________________________________________________________\n",
            "block1_max1 (MaxPooling2D)   (None, 32, 32, 32)        0         \n",
            "_________________________________________________________________\n",
            "block2_conv1 (Conv2D)        (None, 32, 32, 16)        4624      \n",
            "_________________________________________________________________\n",
            "block2_max1 (MaxPooling2D)   (None, 16, 16, 16)        0         \n",
            "_________________________________________________________________\n",
            "flatten (Flatten)            (None, 4096)              0         \n",
            "_________________________________________________________________\n",
            "dense (Dense)                (None, 16)                65552     \n",
            "_________________________________________________________________\n",
            "output_layer (Dense)         (None, 1)                 17        \n",
            "=================================================================\n",
            "Total params: 71,089\n",
            "Trainable params: 71,089\n",
            "Non-trainable params: 0\n",
            "_________________________________________________________________\n",
            "None\n"
          ],
          "name": "stdout"
        }
      ]
    },
    {
      "cell_type": "code",
      "metadata": {
        "colab": {
          "base_uri": "https://localhost:8080/",
          "height": 597
        },
        "id": "hp5uUahyF4qX",
        "outputId": "004a7b00-0993-494c-d3fc-99351cec50a6"
      },
      "source": [
        "wandb.init(project=\"beard-classification\")"
      ],
      "execution_count": 9,
      "outputs": [
        {
          "output_type": "stream",
          "text": [
            "\u001b[34m\u001b[1mwandb\u001b[0m: Currently logged in as: \u001b[33mofekh\u001b[0m (use `wandb login --relogin` to force relogin)\n"
          ],
          "name": "stderr"
        },
        {
          "output_type": "display_data",
          "data": {
            "text/html": [
              "\n",
              "                Tracking run with wandb version 0.10.17<br/>\n",
              "                Syncing run <strong style=\"color:#cdcd00\">snowy-donkey-1</strong> to <a href=\"https://wandb.ai\" target=\"_blank\">Weights & Biases</a> <a href=\"https://docs.wandb.com/integrations/jupyter.html\" target=\"_blank\">(Documentation)</a>.<br/>\n",
              "                Project page: <a href=\"https://wandb.ai/ofekh/beard-classification\" target=\"_blank\">https://wandb.ai/ofekh/beard-classification</a><br/>\n",
              "                Run page: <a href=\"https://wandb.ai/ofekh/beard-classification/runs/3mqqddnd\" target=\"_blank\">https://wandb.ai/ofekh/beard-classification/runs/3mqqddnd</a><br/>\n",
              "                Run data is saved locally in <code>/content/wandb/run-20210205_165129-3mqqddnd</code><br/><br/>\n",
              "            "
            ],
            "text/plain": [
              "<IPython.core.display.HTML object>"
            ]
          },
          "metadata": {
            "tags": []
          }
        },
        {
          "output_type": "execute_result",
          "data": {
            "text/plain": [
              "<wandb.sdk.wandb_run.Run at 0x7f9916991898>"
            ],
            "text/html": [
              "<h1>Run(3mqqddnd)</h1><iframe src=\"https://wandb.ai/ofekh/beard-classification/runs/3mqqddnd\" style=\"border:none;width:100%;height:400px\"></iframe>"
            ]
          },
          "metadata": {
            "tags": []
          },
          "execution_count": 9
        }
      ]
    },
    {
      "cell_type": "code",
      "metadata": {
        "id": "qTQCBgxuGF9F"
      },
      "source": [
        "#callbacks\r\n",
        "best_callback = keras.callbacks.ModelCheckpoint(MODELS_PATH+BEST, save_best_only=True)\r\n",
        "wandb_callback = WandbCallback()"
      ],
      "execution_count": 10,
      "outputs": []
    },
    {
      "cell_type": "code",
      "metadata": {
        "colab": {
          "base_uri": "https://localhost:8080/"
        },
        "id": "sVkgw2MgGJSl",
        "outputId": "4f6559e8-d5f8-4201-a514-a182667e8fbb"
      },
      "source": [
        "#loading data\r\n",
        "print(\"loading validation data\")\r\n",
        "val_x, val_y = getData(VAL_TEXT)\r\n",
        "print(\"loading train data\")\r\n",
        "train_x, train_y = getData(TRAIN_TEXT)"
      ],
      "execution_count": 11,
      "outputs": [
        {
          "output_type": "stream",
          "text": [
            "loading validation data\n",
            "250/768\n",
            "500/768\n",
            "750/768\n",
            "loading train data\n",
            "250/12285\n",
            "500/12285\n",
            "750/12285\n",
            "1000/12285\n",
            "1250/12285\n",
            "1500/12285\n",
            "1750/12285\n",
            "2000/12285\n",
            "2250/12285\n",
            "2500/12285\n",
            "2750/12285\n",
            "3000/12285\n",
            "3250/12285\n",
            "3500/12285\n",
            "3750/12285\n",
            "4000/12285\n",
            "4250/12285\n",
            "4500/12285\n",
            "4750/12285\n",
            "5000/12285\n",
            "5500/12285\n",
            "5750/12285\n",
            "6000/12285\n",
            "6250/12285\n",
            "6500/12285\n",
            "6750/12285\n",
            "7000/12285\n",
            "7250/12285\n",
            "7500/12285\n",
            "7750/12285\n",
            "8000/12285\n",
            "8250/12285\n",
            "8500/12285\n",
            "8750/12285\n",
            "9000/12285\n",
            "9250/12285\n",
            "9500/12285\n",
            "9750/12285\n",
            "10000/12285\n",
            "10250/12285\n",
            "10500/12285\n",
            "10750/12285\n",
            "11000/12285\n",
            "11250/12285\n",
            "11500/12285\n",
            "11750/12285\n",
            "12000/12285\n",
            "12250/12285\n"
          ],
          "name": "stdout"
        }
      ]
    },
    {
      "cell_type": "code",
      "metadata": {
        "colab": {
          "base_uri": "https://localhost:8080/",
          "height": 299
        },
        "id": "zRzjtSWAGJ17",
        "outputId": "596556f5-58b5-4ef5-eaa4-fdd9420d40a3"
      },
      "source": [
        "model = buildModel(0.001)"
      ],
      "execution_count": 2,
      "outputs": [
        {
          "output_type": "error",
          "ename": "NameError",
          "evalue": "ignored",
          "traceback": [
            "\u001b[0;31m---------------------------------------------------------------------------\u001b[0m",
            "\u001b[0;31mNameError\u001b[0m                                 Traceback (most recent call last)",
            "\u001b[0;32m<ipython-input-2-2c38670a5c3e>\u001b[0m in \u001b[0;36m<module>\u001b[0;34m()\u001b[0m\n\u001b[0;32m----> 1\u001b[0;31m \u001b[0mmodel\u001b[0m \u001b[0;34m=\u001b[0m \u001b[0mbuildModel\u001b[0m\u001b[0;34m(\u001b[0m\u001b[0;36m0.001\u001b[0m\u001b[0;34m)\u001b[0m\u001b[0;34m\u001b[0m\u001b[0;34m\u001b[0m\u001b[0m\n\u001b[0m",
            "\u001b[0;32m<ipython-input-1-8e3003153b33>\u001b[0m in \u001b[0;36mbuildModel\u001b[0;34m(lr)\u001b[0m\n\u001b[1;32m      1\u001b[0m \u001b[0;32mdef\u001b[0m \u001b[0mbuildModel\u001b[0m\u001b[0;34m(\u001b[0m\u001b[0mlr\u001b[0m \u001b[0;34m=\u001b[0m \u001b[0;36m0.001\u001b[0m\u001b[0;34m)\u001b[0m\u001b[0;34m:\u001b[0m\u001b[0;34m\u001b[0m\u001b[0;34m\u001b[0m\u001b[0m\n\u001b[0;32m----> 2\u001b[0;31m   \u001b[0minput_layer\u001b[0m \u001b[0;34m=\u001b[0m \u001b[0mkeras\u001b[0m\u001b[0;34m.\u001b[0m\u001b[0mlayers\u001b[0m\u001b[0;34m.\u001b[0m\u001b[0mInput\u001b[0m\u001b[0;34m(\u001b[0m\u001b[0mshape\u001b[0m\u001b[0;34m=\u001b[0m\u001b[0;34m[\u001b[0m\u001b[0;36m32\u001b[0m\u001b[0;34m,\u001b[0m\u001b[0;36m32\u001b[0m\u001b[0;34m,\u001b[0m\u001b[0;36m3\u001b[0m\u001b[0;34m]\u001b[0m\u001b[0;34m)\u001b[0m\u001b[0;34m\u001b[0m\u001b[0;34m\u001b[0m\u001b[0m\n\u001b[0m\u001b[1;32m      3\u001b[0m \u001b[0;34m\u001b[0m\u001b[0m\n\u001b[1;32m      4\u001b[0m   \u001b[0;31m#block1\u001b[0m\u001b[0;34m\u001b[0m\u001b[0;34m\u001b[0m\u001b[0;34m\u001b[0m\u001b[0m\n\u001b[1;32m      5\u001b[0m   \u001b[0mlayer\u001b[0m \u001b[0;34m=\u001b[0m \u001b[0mkeras\u001b[0m\u001b[0;34m.\u001b[0m\u001b[0mlayers\u001b[0m\u001b[0;34m.\u001b[0m\u001b[0mConv2D\u001b[0m\u001b[0;34m(\u001b[0m\u001b[0;36m32\u001b[0m\u001b[0;34m,\u001b[0m \u001b[0;34m(\u001b[0m\u001b[0;36m3\u001b[0m\u001b[0;34m,\u001b[0m\u001b[0;36m3\u001b[0m\u001b[0;34m)\u001b[0m\u001b[0;34m,\u001b[0m \u001b[0mstrides\u001b[0m\u001b[0;34m=\u001b[0m\u001b[0;34m(\u001b[0m\u001b[0;36m1\u001b[0m\u001b[0;34m,\u001b[0m\u001b[0;36m1\u001b[0m\u001b[0;34m)\u001b[0m\u001b[0;34m,\u001b[0m \u001b[0mactivation\u001b[0m\u001b[0;34m=\u001b[0m\u001b[0;34m'relu'\u001b[0m\u001b[0;34m,\u001b[0m \u001b[0mpadding\u001b[0m\u001b[0;34m=\u001b[0m\u001b[0;34m'same'\u001b[0m\u001b[0;34m,\u001b[0m \u001b[0mname\u001b[0m\u001b[0;34m=\u001b[0m\u001b[0;34m'block1_conv1'\u001b[0m\u001b[0;34m)\u001b[0m\u001b[0;34m(\u001b[0m\u001b[0minput_layer\u001b[0m\u001b[0;34m)\u001b[0m\u001b[0;34m\u001b[0m\u001b[0;34m\u001b[0m\u001b[0m\n",
            "\u001b[0;31mNameError\u001b[0m: name 'keras' is not defined"
          ]
        }
      ]
    },
    {
      "cell_type": "code",
      "metadata": {
        "colab": {
          "base_uri": "https://localhost:8080/"
        },
        "id": "ODzzbw2BGM10",
        "outputId": "e09ead36-69c4-42f0-d493-7605613a0a05"
      },
      "source": [
        "model.fit(train_x,\r\n",
        "          train_y,\r\n",
        "          epochs=24, \r\n",
        "          validation_data=(val_x, val_y),\r\n",
        "          callbacks=[best_callback, wandb_callback])"
      ],
      "execution_count": 13,
      "outputs": [
        {
          "output_type": "stream",
          "text": [
            "Epoch 1/24\n",
            "384/384 [==============================] - 52s 132ms/step - loss: 0.4408 - binary_accuracy: 0.7866 - val_loss: 0.2165 - val_binary_accuracy: 0.9141\n",
            "Epoch 2/24\n",
            "384/384 [==============================] - 51s 133ms/step - loss: 0.2280 - binary_accuracy: 0.9012 - val_loss: 0.1709 - val_binary_accuracy: 0.9349\n",
            "Epoch 3/24\n",
            "384/384 [==============================] - 54s 141ms/step - loss: 0.1728 - binary_accuracy: 0.9314 - val_loss: 0.1752 - val_binary_accuracy: 0.9297\n",
            "Epoch 4/24\n",
            "384/384 [==============================] - 50s 131ms/step - loss: 0.1376 - binary_accuracy: 0.9453 - val_loss: 0.1269 - val_binary_accuracy: 0.9492\n",
            "Epoch 5/24\n",
            "384/384 [==============================] - 52s 136ms/step - loss: 0.1050 - binary_accuracy: 0.9568 - val_loss: 0.1464 - val_binary_accuracy: 0.9440\n",
            "Epoch 6/24\n",
            "384/384 [==============================] - 52s 136ms/step - loss: 0.0927 - binary_accuracy: 0.9640 - val_loss: 0.1070 - val_binary_accuracy: 0.9518\n",
            "Epoch 7/24\n",
            "384/384 [==============================] - 50s 130ms/step - loss: 0.0905 - binary_accuracy: 0.9635 - val_loss: 0.1288 - val_binary_accuracy: 0.9492\n",
            "Epoch 8/24\n",
            "384/384 [==============================] - 52s 134ms/step - loss: 0.0717 - binary_accuracy: 0.9745 - val_loss: 0.0640 - val_binary_accuracy: 0.9766\n",
            "Epoch 9/24\n",
            "384/384 [==============================] - 52s 136ms/step - loss: 0.0638 - binary_accuracy: 0.9754 - val_loss: 0.0812 - val_binary_accuracy: 0.9727\n",
            "Epoch 10/24\n",
            "384/384 [==============================] - 51s 132ms/step - loss: 0.0446 - binary_accuracy: 0.9845 - val_loss: 0.1207 - val_binary_accuracy: 0.9544\n",
            "Epoch 11/24\n",
            "384/384 [==============================] - 52s 135ms/step - loss: 0.0523 - binary_accuracy: 0.9816 - val_loss: 0.0652 - val_binary_accuracy: 0.9740\n",
            "Epoch 12/24\n",
            "384/384 [==============================] - 52s 135ms/step - loss: 0.0352 - binary_accuracy: 0.9876 - val_loss: 0.0510 - val_binary_accuracy: 0.9818\n",
            "Epoch 13/24\n",
            "384/384 [==============================] - 53s 138ms/step - loss: 0.0299 - binary_accuracy: 0.9895 - val_loss: 0.0709 - val_binary_accuracy: 0.9701\n",
            "Epoch 14/24\n",
            "384/384 [==============================] - 54s 140ms/step - loss: 0.0344 - binary_accuracy: 0.9863 - val_loss: 0.0573 - val_binary_accuracy: 0.9805\n",
            "Epoch 15/24\n",
            "384/384 [==============================] - 52s 134ms/step - loss: 0.0220 - binary_accuracy: 0.9912 - val_loss: 0.0385 - val_binary_accuracy: 0.9857\n",
            "Epoch 16/24\n",
            "384/384 [==============================] - 51s 133ms/step - loss: 0.0186 - binary_accuracy: 0.9946 - val_loss: 0.0754 - val_binary_accuracy: 0.9779\n",
            "Epoch 17/24\n",
            "384/384 [==============================] - 51s 134ms/step - loss: 0.0204 - binary_accuracy: 0.9920 - val_loss: 0.0359 - val_binary_accuracy: 0.9883\n",
            "Epoch 18/24\n",
            "384/384 [==============================] - 51s 133ms/step - loss: 0.0073 - binary_accuracy: 0.9982 - val_loss: 0.0339 - val_binary_accuracy: 0.9883\n",
            "Epoch 19/24\n",
            "384/384 [==============================] - 54s 141ms/step - loss: 0.0132 - binary_accuracy: 0.9958 - val_loss: 0.0444 - val_binary_accuracy: 0.9857\n",
            "Epoch 20/24\n",
            "384/384 [==============================] - 50s 131ms/step - loss: 0.0089 - binary_accuracy: 0.9981 - val_loss: 0.0741 - val_binary_accuracy: 0.9740\n",
            "Epoch 21/24\n",
            "384/384 [==============================] - 52s 136ms/step - loss: 0.0136 - binary_accuracy: 0.9960 - val_loss: 0.1551 - val_binary_accuracy: 0.9544\n",
            "Epoch 22/24\n",
            "384/384 [==============================] - 53s 138ms/step - loss: 0.0285 - binary_accuracy: 0.9903 - val_loss: 0.0408 - val_binary_accuracy: 0.9831\n",
            "Epoch 23/24\n",
            "384/384 [==============================] - 51s 133ms/step - loss: 0.0108 - binary_accuracy: 0.9959 - val_loss: 0.0402 - val_binary_accuracy: 0.9857\n",
            "Epoch 24/24\n",
            "384/384 [==============================] - 49s 128ms/step - loss: 0.0078 - binary_accuracy: 0.9981 - val_loss: 0.0489 - val_binary_accuracy: 0.9857\n"
          ],
          "name": "stdout"
        },
        {
          "output_type": "execute_result",
          "data": {
            "text/plain": [
              "<tensorflow.python.keras.callbacks.History at 0x7f99159605f8>"
            ]
          },
          "metadata": {
            "tags": []
          },
          "execution_count": 13
        }
      ]
    },
    {
      "cell_type": "code",
      "metadata": {
        "colab": {
          "base_uri": "https://localhost:8080/"
        },
        "id": "rZJ0RAIiGPLc",
        "outputId": "fc7865af-96ad-490e-fc77-b81d7ce80075"
      },
      "source": [
        "test_x, test_y = getData(TEST_TEXT)"
      ],
      "execution_count": 14,
      "outputs": [
        {
          "output_type": "stream",
          "text": [
            "250/2303\n",
            "500/2303\n",
            "750/2303\n",
            "1000/2303\n",
            "1250/2303\n",
            "1500/2303\n",
            "1750/2303\n",
            "2000/2303\n",
            "2250/2303\n"
          ],
          "name": "stdout"
        }
      ]
    },
    {
      "cell_type": "code",
      "metadata": {
        "colab": {
          "base_uri": "https://localhost:8080/"
        },
        "id": "KtzPpZEKGQme",
        "outputId": "50ff616d-160a-4d27-f320-d6d0aa76031d"
      },
      "source": [
        "loss, acc = model.evaluate(x = test_x, y = test_y)"
      ],
      "execution_count": 15,
      "outputs": [
        {
          "output_type": "stream",
          "text": [
            "72/72 [==============================] - 3s 37ms/step - loss: 0.0580 - binary_accuracy: 0.9844\n"
          ],
          "name": "stdout"
        }
      ]
    },
    {
      "cell_type": "code",
      "metadata": {
        "id": "msOX4pezGSI0"
      },
      "source": [
        "model.save(MODELS_PATH+BEST)"
      ],
      "execution_count": 16,
      "outputs": []
    }
  ]
}